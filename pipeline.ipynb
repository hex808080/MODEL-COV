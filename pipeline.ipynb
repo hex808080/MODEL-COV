{
 "cells": [
  {
   "cell_type": "code",
   "execution_count": 3,
   "id": "33696599",
   "metadata": {},
   "outputs": [],
   "source": [
    "import numpy as np\n",
    "import pandas as pd\n",
    "import matplotlib.pyplot as plt\n",
    "import seaborn as sns\n",
    "from sklearn.ensemble import RandomForestClassifier\n",
    "from sklearn.model_selection import StratifiedKFold, cross_val_score\n",
    "from glob import glob"
   ]
  },
  {
   "cell_type": "code",
   "execution_count": 197,
   "id": "71cbc099",
   "metadata": {},
   "outputs": [],
   "source": [
    "# WIP: do not use yet\n",
    "def get_table(path, projects, files):\n",
    "    table, cohort = [], []\n",
    "    for p in projects:\n",
    "        cohort.append(\n",
    "            pd.read_csv(\n",
    "                glob(path + '/' + p + '_Acquisition.csv')[0]\n",
    "            ).dropna(subset=['B-number'])\n",
    "        )\n",
    "        tab = []\n",
    "        for f_i in range(len(files['name'])):\n",
    "            tab.append(\n",
    "                pd.read_csv(\n",
    "                    glob(path + '/' + p + '*' + files['name'][f_i] + '*.csv')[0],\n",
    "                    sep = files['delimiter'][f_i]\n",
    "                )\n",
    "            )\n",
    "        table.append(pd.concat(tab, axis=1))\n",
    "    table = pd.concat(table, ignore_index=True, axis=0)\n",
    "    cohort = pd.concat(cohort, ignore_index=True, axis=0)\n",
    "    \n",
    "    return table, cohort"
   ]
  },
  {
   "cell_type": "code",
   "execution_count": 212,
   "id": "371806e5",
   "metadata": {
    "scrolled": true
   },
   "outputs": [
    {
     "name": "stdout",
     "output_type": "stream",
     "text": [
      "0      B1079310-2022-11357\n",
      "1      B0535108-2022-11390\n",
      "2      B3030253-2022-11477\n",
      "3      B3920128-2022-11495\n",
      "4      B8826331-2022-11496\n",
      "              ...         \n",
      "107    B7075941-2020-09765\n",
      "108    B7558888-2020-09764\n",
      "109    B9101678-2020-09833\n",
      "110    B9177368-2020-09713\n",
      "111    B9690730-2020-09736\n",
      "Name: B-number, Length: 112, dtype: object\n",
      "0               695050171_B4893839-2022-12019_MODEL-COV\n",
      "1               696094501_B0873485-2022-11862_MODEL-COV\n",
      "2               696172048_B7848673-2022-11967_MODEL-COV\n",
      "3               694795338_B2663262-2022-11614_MODEL-COV\n",
      "4               694180648_B9816156-2022-11603_MODEL-COV\n",
      "                            ...                        \n",
      "88    633340670_B9101678-2020-09833_PHYSICS01-COVID1...\n",
      "89      664618062_B2849982-2021-10038_PHYSICS01-COVID19\n",
      "90    632838903_B7095403-2020-09628_PHYSICS01-COVID1...\n",
      "91                632678936_B4279403-2020-09549_COVID19\n",
      "92      632822320_B9059956-2020-09809_PHYSICS01-COVID19\n",
      "Name: B-number, Length: 93, dtype: object\n"
     ]
    }
   ],
   "source": [
    "path = r'/home/antonio/Documents/MODEL-COV/files'\n",
    "# files = {\n",
    "#     'name': [\n",
    "#         'QMRIPostSegStats', \n",
    "#         'xnatGIFResults', \n",
    "#         'qsm_stats_QSM'\n",
    "#     ],\n",
    "#     'delimiter': [',', ',', '\\t']    \n",
    "# }\n",
    "files = {\n",
    "    'name': [\n",
    "        'QMRIPostSegStats'\n",
    "    ],\n",
    "    'delimiter': [',']    \n",
    "}\n",
    "projects = ['MODEL-COV', 'COVID19']\n",
    "\n",
    "table, cohort = get_table(path, projects, files)\n",
    "\n",
    "indx = [\n",
    "    b_i for b_i, b in enumerate(cohort['B-number']) for B in table['B-number']  \n",
    "    if (b in B) and (cohort['COVIDHC'][b_i] != 1)\n",
    "]\n",
    "\n",
    "print(cohort['B-number'])\n",
    "print(table['B-number'])\n",
    "\n",
    "# table = table.iloc[indx]\n",
    "# labels = ['COVID' if 'COVID' in l else 'HC' for l in cohort['Analysis Group']]\n",
    "# print(labels)"
   ]
  },
  {
   "cell_type": "code",
   "execution_count": 196,
   "id": "e0bcb9b0",
   "metadata": {
    "scrolled": true
   },
   "outputs": [
    {
     "data": {
      "text/plain": [
       "0    NaN\n",
       "0    0.0\n",
       "Name: COVIDHC, dtype: float64"
      ]
     },
     "execution_count": 196,
     "metadata": {},
     "output_type": "execute_result"
    }
   ],
   "source": [
    "cohort.loc[0, 'COVIDHC']"
   ]
  }
 ],
 "metadata": {
  "kernelspec": {
   "display_name": "python3 (conda)",
   "language": "python",
   "name": "python3"
  },
  "language_info": {
   "codemirror_mode": {
    "name": "ipython",
    "version": 3
   },
   "file_extension": ".py",
   "mimetype": "text/x-python",
   "name": "python",
   "nbconvert_exporter": "python",
   "pygments_lexer": "ipython3",
   "version": "3.11.3"
  }
 },
 "nbformat": 4,
 "nbformat_minor": 5
}
